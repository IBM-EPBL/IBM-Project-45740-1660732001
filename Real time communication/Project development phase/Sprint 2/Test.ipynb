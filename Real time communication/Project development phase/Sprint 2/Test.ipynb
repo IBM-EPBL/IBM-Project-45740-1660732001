{
 "cells": [
  {
   "cell_type": "code",
   "execution_count": 2,
   "id": "97ccf9a3",
   "metadata": {},
   "outputs": [],
   "source": [
    "from keras.models import load_model\n",
    "import numpy as np\n",
    "import cv2"
   ]
  },
  {
   "cell_type": "code",
   "execution_count": 3,
   "id": "203b3edc",
   "metadata": {},
   "outputs": [],
   "source": [
    "model = load_model('aslpng1.h5')"
   ]
  },
  {
   "cell_type": "code",
   "execution_count": 12,
   "id": "86ac2b9c",
   "metadata": {},
   "outputs": [
    {
     "name": "stdout",
     "output_type": "stream",
     "text": [
      "1/1 [==============================] - 0s 83ms/step\n",
      "[[1.7711789e-09 2.6520481e-12 2.8181887e-07 1.6834743e-10 1.0296586e-10\n",
      "  7.4814416e-10 9.9998701e-01 1.2772834e-05 3.3011080e-11]]\n"
     ]
    }
   ],
   "source": [
    "from skimage.transform import resize\n",
    "def detect(frame):\n",
    "    img = resize(frame,(64,64,1))\n",
    "    img = np.expand_dims(img,axis=0)\n",
    "    if(np.max(img)>1):\n",
    "        img = img/255.0\n",
    "    prediction = model.predict(img)\n",
    "    print(prediction)\n",
    "    #prediction = model.predict_generator(img) #used generator instead of classes\n",
    "    #print(prediction)\n",
    "    \n",
    "frame = cv2.imread(r\"D:\\RTCS\\Dataset\\test_set\\G\\1.png\")\n",
    "data = detect(frame)"
   ]
  },
  {
   "cell_type": "code",
   "execution_count": null,
   "id": "f9b92573",
   "metadata": {},
   "outputs": [],
   "source": []
  }
 ],
 "metadata": {
  "kernelspec": {
   "display_name": "Python 3 (ipykernel)",
   "language": "python",
   "name": "python3"
  },
  "language_info": {
   "codemirror_mode": {
    "name": "ipython",
    "version": 3
   },
   "file_extension": ".py",
   "mimetype": "text/x-python",
   "name": "python",
   "nbconvert_exporter": "python",
   "pygments_lexer": "ipython3",
   "version": "3.9.12"
  }
 },
 "nbformat": 4,
 "nbformat_minor": 5
}
