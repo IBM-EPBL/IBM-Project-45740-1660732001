{
 "cells": [
  {
   "cell_type": "markdown",
   "id": "f3911c26",
   "metadata": {},
   "source": [
    "# Image preprocessing"
   ]
  },
  {
   "cell_type": "code",
   "execution_count": 9,
   "id": "9aacde00",
   "metadata": {},
   "outputs": [],
   "source": [
    "from keras.preprocessing.image import ImageDataGenerator\n",
    "train_datagen = ImageDataGenerator(rescale=1./255, shear_range=0.2, zoom_range=0.2, horizontal_flip=True)\n",
    "test_datagen = ImageDataGenerator(rescale=1./255)"
   ]
  },
  {
   "cell_type": "code",
   "execution_count": 10,
   "id": "8c87fd7a",
   "metadata": {},
   "outputs": [
    {
     "name": "stdout",
     "output_type": "stream",
     "text": [
      "Found 15750 images belonging to 9 classes.\n",
      "Found 2250 images belonging to 9 classes.\n"
     ]
    }
   ],
   "source": [
    "x_train = train_datagen.flow_from_directory(\"D:/RTCS/Dataset/training_set\",target_size=(64,64),batch_size=300,class_mode='categorical',color_mode='grayscale')\n",
    "x_test = test_datagen.flow_from_directory(\"D:/RTCS/Dataset/test_set\",target_size=(64,64),batch_size=300,class_mode='categorical',color_mode='grayscale')"
   ]
  },
  {
   "cell_type": "markdown",
   "id": "c6eda11f",
   "metadata": {},
   "source": [
    "# Import Libreries"
   ]
  },
  {
   "cell_type": "code",
   "execution_count": 11,
   "id": "7324d341",
   "metadata": {},
   "outputs": [],
   "source": [
    "from keras.models import Sequential\n",
    "from keras.layers import Dense\n",
    "from keras.layers import Convolution2D\n",
    "from keras.layers import MaxPooling2D\n",
    "from keras.layers import Dropout\n",
    "from keras.layers import Flatten"
   ]
  },
  {
   "cell_type": "markdown",
   "id": "322190c4",
   "metadata": {},
   "source": [
    "# Initialize Model"
   ]
  },
  {
   "cell_type": "code",
   "execution_count": 12,
   "id": "a39ed4b5",
   "metadata": {},
   "outputs": [],
   "source": [
    "model = Sequential()"
   ]
  },
  {
   "cell_type": "markdown",
   "id": "73052ada",
   "metadata": {},
   "source": [
    "# Add The Convolution Layer"
   ]
  },
  {
   "cell_type": "code",
   "execution_count": 13,
   "id": "e8c08de3",
   "metadata": {},
   "outputs": [],
   "source": [
    "model.add(Convolution2D(32, (3,3), input_shape=(64,64,1), activation='relu'))"
   ]
  },
  {
   "cell_type": "markdown",
   "id": "8ecd4cde",
   "metadata": {},
   "source": [
    "# Add The Pooling Layer"
   ]
  },
  {
   "cell_type": "code",
   "execution_count": 14,
   "id": "32919fd5",
   "metadata": {},
   "outputs": [],
   "source": [
    "model.add(MaxPooling2D(pool_size=(2,2)))"
   ]
  },
  {
   "cell_type": "markdown",
   "id": "efe0c23e",
   "metadata": {},
   "source": [
    "# Add The Flatten Layer"
   ]
  },
  {
   "cell_type": "code",
   "execution_count": 15,
   "id": "d26112ed",
   "metadata": {},
   "outputs": [],
   "source": [
    "model.add(Flatten())"
   ]
  },
  {
   "cell_type": "markdown",
   "id": "0026866b",
   "metadata": {},
   "source": [
    "# Adding The Dense Layers"
   ]
  },
  {
   "cell_type": "code",
   "execution_count": 16,
   "id": "352391d5",
   "metadata": {},
   "outputs": [],
   "source": [
    "model.add(Dense(units=512,activation='relu'))\n",
    "model.add(Dense(units=9,activation='softmax'))"
   ]
  },
  {
   "cell_type": "markdown",
   "id": "ab5220cc",
   "metadata": {},
   "source": [
    "# Compile Model"
   ]
  },
  {
   "cell_type": "code",
   "execution_count": 17,
   "id": "331f4206",
   "metadata": {},
   "outputs": [],
   "source": [
    "model.compile(loss='categorical_crossentropy',optimizer=\"adam\",metrics=[\"accuracy\"])"
   ]
  },
  {
   "cell_type": "markdown",
   "id": "5e63236f",
   "metadata": {},
   "source": [
    "# Fit and Save Model"
   ]
  },
  {
   "cell_type": "code",
   "execution_count": 18,
   "id": "6969f9c2",
   "metadata": {},
   "outputs": [
    {
     "name": "stderr",
     "output_type": "stream",
     "text": [
      "C:\\Users\\Surya Thangaprakasam\\AppData\\Local\\Temp\\ipykernel_8616\\3736481484.py:1: UserWarning: `Model.fit_generator` is deprecated and will be removed in a future version. Please use `Model.fit`, which supports generators.\n",
      "  model.fit_generator(x_train,steps_per_epoch=24,epochs=10,validation_data=x_test,validation_steps=40)\n"
     ]
    },
    {
     "name": "stdout",
     "output_type": "stream",
     "text": [
      "Epoch 1/10\n",
      "24/24 [==============================] - ETA: 0s - loss: 0.9840 - accuracy: 0.6965WARNING:tensorflow:Your input ran out of data; interrupting training. Make sure that your dataset or generator can generate at least `steps_per_epoch * epochs` batches (in this case, 40 batches). You may need to use the repeat() function when building your dataset.\n",
      "24/24 [==============================] - 254s 10s/step - loss: 0.9840 - accuracy: 0.6965 - val_loss: 0.3350 - val_accuracy: 0.9049\n",
      "Epoch 2/10\n",
      "24/24 [==============================] - 115s 5s/step - loss: 0.2103 - accuracy: 0.9419\n",
      "Epoch 3/10\n",
      "24/24 [==============================] - 86s 4s/step - loss: 0.1180 - accuracy: 0.9682\n",
      "Epoch 4/10\n",
      "24/24 [==============================] - 77s 3s/step - loss: 0.0658 - accuracy: 0.9836\n",
      "Epoch 5/10\n",
      "24/24 [==============================] - 73s 3s/step - loss: 0.0459 - accuracy: 0.9889\n",
      "Epoch 6/10\n",
      "24/24 [==============================] - 71s 3s/step - loss: 0.0343 - accuracy: 0.9921\n",
      "Epoch 7/10\n",
      "24/24 [==============================] - 70s 3s/step - loss: 0.0266 - accuracy: 0.9942\n",
      "Epoch 8/10\n",
      "24/24 [==============================] - 73s 3s/step - loss: 0.0226 - accuracy: 0.9949\n",
      "Epoch 9/10\n",
      "24/24 [==============================] - 70s 3s/step - loss: 0.0151 - accuracy: 0.9975\n",
      "Epoch 10/10\n",
      "24/24 [==============================] - 70s 3s/step - loss: 0.0148 - accuracy: 0.9964\n"
     ]
    },
    {
     "data": {
      "text/plain": [
       "<keras.callbacks.History at 0x1ccb4abff10>"
      ]
     },
     "execution_count": 18,
     "metadata": {},
     "output_type": "execute_result"
    }
   ],
   "source": [
    "model.fit_generator(x_train,steps_per_epoch=24,epochs=10,validation_data=x_test,validation_steps=40)"
   ]
  },
  {
   "cell_type": "code",
   "execution_count": 19,
   "id": "01e6011e",
   "metadata": {},
   "outputs": [],
   "source": [
    "model.save('aslpng1.h5')"
   ]
  }
 ],
 "metadata": {
  "kernelspec": {
   "display_name": "Python 3 (ipykernel)",
   "language": "python",
   "name": "python3"
  },
  "language_info": {
   "codemirror_mode": {
    "name": "ipython",
    "version": 3
   },
   "file_extension": ".py",
   "mimetype": "text/x-python",
   "name": "python",
   "nbconvert_exporter": "python",
   "pygments_lexer": "ipython3",
   "version": "3.9.12"
  }
 },
 "nbformat": 4,
 "nbformat_minor": 5
}
